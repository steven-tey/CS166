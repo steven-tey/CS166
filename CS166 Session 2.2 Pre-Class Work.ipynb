{
 "cells": [
  {
   "cell_type": "markdown",
   "metadata": {},
   "source": [
    "## Exercise 11.3\n",
    "Modify Code 11.5 to implement a simulator of the Game of Life CA. Simulate the dynamics from a random initial configuration. Measure the density of state 1’s in the configuration at each time step, and plot how the density changes over time. This can be done by creating an empty list in the \"initialize\" function, and then making the measurement and appending the result to the list in the \"observe\" function. The results stored in the list can be plotted manually after the simulation, or they could be plotted next to the visualization using pylab’s \"subplot\" function during the simulation."
   ]
  },
  {
   "cell_type": "code",
   "execution_count": 123,
   "metadata": {},
   "outputs": [
    {
     "data": {
      "image/png": "[encoded data removed]",
      "text/plain": [
       "<Figure size 432x288 with 1 Axes>"
      ]
     },
     "metadata": {
      "needs_background": "light"
     },
     "output_type": "display_data"
    }
   ],
   "source": [
    "import matplotlib\n",
    "import pylab\n",
    "import matplotlib.pyplot as plt\n",
    "import numpy as np\n",
    "\n",
    "n = 100 # size of space: n x n\n",
    "p = 0.1 # probability of initially dead cells\n",
    "\n",
    "def initialize():\n",
    "    global config, nextconfig\n",
    "    config = pylab.zeros([n, n])\n",
    "    for x in range(n):\n",
    "        for y in range(n):\n",
    "            config[x, y] = 1 if pylab.random() < p else 0\n",
    "    nextconfig = pylab.zeros([n, n])\n",
    "    \n",
    "denslist=[]\n",
    "\n",
    "def observe():\n",
    "    global config, nextconfig\n",
    "    pylab.cla()\n",
    "    pylab.imshow(config, vmin = 0, vmax = 1, cmap = pylab.cm.binary)\n",
    "    density =[]\n",
    "    # Here, I obtained the density of the plot by taking the sum of all the plots that were filled and dividing\n",
    "    # that by the total number of plots. Then, I took the average of those numbers and appended all of them\n",
    "    # into an array named \"denslist\". This will be used to show the change in density with respect to time,\n",
    "    # which will be displayed in a plot below.\n",
    "    density.append(sum((sum(config==1)/(sum(config==1)+sum(config==0))))/len((sum(config==1)/(sum(config==1)+sum(config==0)))))\n",
    "    denslist.append(density)\n",
    "\n",
    "def update():\n",
    "    density = []\n",
    "    global config, nextconfig\n",
    "    for x in range(n):\n",
    "        for y in range(n):\n",
    "            count = 0\n",
    "            # According to game of life, if the cell is dead, it'll become alive \n",
    "            # if there are exactly 3 alive cells around it\n",
    "            if config[x, y] == 0: \n",
    "                for dx in [-1, 0, 1]:\n",
    "                    for dy in [-1, 0, 1]:\n",
    "                        count += config[(x + dx) % n, (y + dy) % n]\n",
    "                if count == 3:\n",
    "                    nextconfig[x, y] = 1 \n",
    "                else:\n",
    "                    nextconfig[x, y] = 0\n",
    "            # On the other hand, if the cell is alive, it'll stay alive \n",
    "            # if there are 2 or 3 alive cells around it\n",
    "            else:\n",
    "                for dx in [-1, 0, 1]:\n",
    "                    for dy in [-1, 0, 1]:\n",
    "                        count += config[(x + dx) % n, (y + dy) % n]\n",
    "                if count == (2 or 3):\n",
    "                    nextconfig[x, y] = 1 \n",
    "                else:\n",
    "                    nextconfig[x, y] = 0\n",
    "    config, nextconfig = nextconfig, config\n",
    "\n",
    "%matplotlib inline\n",
    "\n",
    "initialize()\n",
    "for i in range(10):\n",
    "    update()\n",
    "    observe()"
   ]
  },
  {
   "cell_type": "code",
   "execution_count": 124,
   "metadata": {},
   "outputs": [
    {
     "data": {
      "text/plain": [
       "[<matplotlib.lines.Line2D at 0x11984c400>]"
      ]
     },
     "execution_count": 124,
     "metadata": {},
     "output_type": "execute_result"
    },
    {
     "data": {
      "image/png": "[encoded data removed]",
      "text/plain": [
       "<Figure size 432x288 with 1 Axes>"
      ]
     },
     "metadata": {
      "needs_background": "light"
     },
     "output_type": "display_data"
    }
   ],
   "source": [
    "# Here is the plot of how density changes over time, as aforementioned.\n",
    "\n",
    "plt.title('Plot of how density changes over time')\n",
    "plt.xlabel(\"Generations\")\n",
    "plt.ylabel(\"Density\")\n",
    "plt.plot(denslist)"
   ]
  },
  {
   "cell_type": "markdown",
   "metadata": {},
   "source": [
    "## Exercise 11.5\n",
    "Implement an interactive parameter setter for $p$ in Code 11.5. Then conduct systematic simulations with varying $p$, and identify its critical value below which isolated clusters are formed but above which the whole space is filled with panic."
   ]
  },
  {
   "cell_type": "code",
   "execution_count": 126,
   "metadata": {},
   "outputs": [
    {
     "data": {
      "image/png": "[encoded data removed]",
      "text/plain": [
       "<Figure size 432x288 with 1 Axes>"
      ]
     },
     "metadata": {
      "needs_background": "light"
     },
     "output_type": "display_data"
    }
   ],
   "source": [
    "import matplotlib\n",
    "import pylab\n",
    "import matplotlib.pyplot as plt\n",
    "import numpy as np\n",
    "import matplotlib.animation as ani\n",
    "\n",
    "n = 100 # size of space: n x n\n",
    "p = 0.35\n",
    "# probability of initially panicky individuals\n",
    "\n",
    "def initialize():\n",
    "    global config, nextconfig\n",
    "    config = pylab.zeros([n, n])\n",
    "    for x in range(n):\n",
    "        for y in range(n):\n",
    "            config[x, y] = 1 if pylab.random() < p else 0\n",
    "    nextconfig = pylab.zeros([n, n])\n",
    "\n",
    "\n",
    "def observe():\n",
    "    global config, nextconfig\n",
    "    pylab.cla()\n",
    "    pylab.imshow(config, vmin = 0, vmax = 1, cmap = pylab.cm.binary)\n",
    "\n",
    "def update():\n",
    "    global config, nextconfig\n",
    "    for x in range(n):\n",
    "        for y in range(n):\n",
    "            count = 0\n",
    "            for dx in [-1, 0, 1]:\n",
    "                for dy in [-1, 0, 1]:\n",
    "                    count += config[(x + dx) % n, (y + dy) % n]\n",
    "            nextconfig[x, y] = 1 if count >= 4 else 0\n",
    "    config, nextconfig = nextconfig, config\n",
    "\n",
    "%matplotlib inline\n",
    "\n",
    "initialize()\n",
    "for j in range(10):\n",
    "    update()\n",
    "    observe()"
   ]
  },
  {
   "cell_type": "markdown",
   "metadata": {},
   "source": [
    "#### Around which value of the initial density parameter does the phase transition (the whole space getting filled with panic) happen?\n",
    "\n",
    "Around the values of $p = 0.35$ to $p = 0.45$. This is known as the critical density of the system that divides a calm state from a fully-panic state."
   ]
  }
 ],
 "metadata": {
  "kernelspec": {
   "display_name": "Python 3",
   "language": "python",
   "name": "python3"
  },
  "language_info": {
   "codemirror_mode": {
    "name": "ipython",
    "version": 3
   },
   "file_extension": ".py",
   "mimetype": "text/x-python",
   "name": "python",
   "nbconvert_exporter": "python",
   "pygments_lexer": "ipython3",
   "version": "3.7.3"
  }
 },
 "nbformat": 4,
 "nbformat_minor": 2
}
