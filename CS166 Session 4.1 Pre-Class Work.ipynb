{
 "cells": [
  {
   "cell_type": "code",
   "execution_count": 1,
   "metadata": {},
   "outputs": [],
   "source": [
    "import numpy as np\n",
    "import random as RD"
   ]
  },
  {
   "cell_type": "code",
   "execution_count": 8,
   "metadata": {},
   "outputs": [],
   "source": [
    "class TrafficSimulation():\n",
    "    def __init__(self, road_length, traffic_density, max_velocity, probability):\n",
    "        # Here, we define the model parameters (road length, traffic density, maximum velocity, \n",
    "        # probability of slowing down) \n",
    "        self.road_length = road_length\n",
    "        self.traffic_density = traffic_density\n",
    "        self.max_velocity = max_velocity\n",
    "        self.probability = probability\n",
    "        self.current_state = [-1]*length # \"-1\" represents an empty cell, so the current state is empty\n",
    "        self.next_state = [-1]*length # Next stae is empty as well, but will input values as we progress\n",
    "        \n",
    "    def addCars(self):\n",
    "        cells = RD.sample(self.road_length, round(self.road_length*self.density))\n",
    "        for i in cells:\n",
    "            self.current_state[i] = random.randint(0, 6, 1)\n",
    "            \n",
    "    def changeSpeed(self):\n",
    "        if self.current_state[i] == -1:\n",
    "            continue\n",
    "        else:\n",
    "            for i in range(self.road_length):\n",
    "                # Here, I need to implement a code that scans the grids in front of the car till it finds the next car\n",
    "                dist_till_next_car = 0\n",
    "                for j in range(self_current_state, self.max_velocity + 1 ):\n",
    "                    if self.current_state[j] == -1:\n",
    "                        dist_till_next_car.append += 1\n",
    "                    else:\n",
    "                        break\n",
    "                if self.current_state[i] < self.max_velocity and dist_till_next_car > self.current_state[i]:\n",
    "                    self.next_state[i] = self.current_state[i] + 1\n",
    "                if dist_till_next_car < self.current_state[i]:\n",
    "                    self.next_state[i] = dist_till_next_car\n",
    "                if self.current_state[i]\n",
    "                    self.next_state[i] = self.current_state[i]\n",
    "\n",
    "            self.current_state[i] = self.next_state[i]\n",
    "            \n",
    "\n",
    "    def humanError(self):\n",
    "        for i in self.current_state:\n",
    "            if random.randrange(0, 1) < self.probability:\n",
    "                self.next_state -= 1\n",
    "        self.current_state = self.next_state\n",
    "            \n",
    "    # I still need to figure out how to code the move function\n",
    "    \n",
    "    def display(self):\n",
    "        print(''.join('.' if x == -1 else str(x) for x in self.state))\n",
    "        \n",
    "        "
   ]
  },
  {
   "cell_type": "markdown",
   "metadata": {},
   "source": [
    "## Some random code that I found online"
   ]
  },
  {
   "cell_type": "code",
   "execution_count": 4,
   "metadata": {},
   "outputs": [
    {
     "data": {
      "image/png": "[encoded data removed]",
      "text/plain": [
       "<Figure size 432x288 with 1 Axes>"
      ]
     },
     "metadata": {
      "needs_background": "light"
     },
     "output_type": "display_data"
    }
   ],
   "source": [
    "from random import uniform, shuffle\n",
    "import matplotlib.pyplot as plt\n",
    "import numpy as np\n",
    " \n",
    "L = 500 # number of cells in row\n",
    "num_iters = 500 # number of iterations\n",
    "density = 0.48 # how many positives\n",
    "vmax = 2\n",
    "p = 0.2\n",
    "\n",
    "cars_num = int(density * L)\n",
    "initial = [0] * cars_num + [-1] * (L - cars_num)\n",
    "shuffle(initial)\n",
    "\n",
    "iterations = [initial]\n",
    "\n",
    "for i in range(num_iters):\n",
    "    prev,curr = iterations[-1],[-1] * L\n",
    "\n",
    "    for x in range(L):\n",
    "        if prev[x] > -1:\n",
    "            vi = prev[x]\n",
    "            d = 1\n",
    "            while prev[(x + d) % L] < 0:\n",
    "                d += 1\n",
    "\n",
    "            vtemp = min(vi+1, d - 1, vmax) # increse speed up to max speed, but don't move further than next car\n",
    "            v = max(vtemp - 1, 0) if uniform(0,1) < p else vtemp # with probability p hit the brakes, otherwise sustain velocity\n",
    "            curr[(x + v) % L] = v # perform the move\n",
    "            #print(x,v)\n",
    "\n",
    "    iterations.append(curr)\n",
    "\n",
    "\n",
    "a = np.zeros(shape=(num_iters,L))\n",
    "for i in range(L):\n",
    "    for j in range(num_iters):\n",
    "        a[j,i] = 1 if iterations[j][i] > -1 else 0\n",
    " \n",
    "# showing image\n",
    "plt.imshow(a, cmap=\"Greys\", interpolation=\"nearest\")\n",
    "plt.show() "
   ]
  },
  {
   "cell_type": "code",
   "execution_count": null,
   "metadata": {},
   "outputs": [],
   "source": []
  },
  {
   "cell_type": "code",
   "execution_count": null,
   "metadata": {},
   "outputs": [],
   "source": []
  }
 ],
 "metadata": {
  "kernelspec": {
   "display_name": "Python 3",
   "language": "python",
   "name": "python3"
  },
  "language_info": {
   "codemirror_mode": {
    "name": "ipython",
    "version": 3
   },
   "file_extension": ".py",
   "mimetype": "text/x-python",
   "name": "python",
   "nbconvert_exporter": "python",
   "pygments_lexer": "ipython3",
   "version": "3.7.3"
  }
 },
 "nbformat": 4,
 "nbformat_minor": 2
}
