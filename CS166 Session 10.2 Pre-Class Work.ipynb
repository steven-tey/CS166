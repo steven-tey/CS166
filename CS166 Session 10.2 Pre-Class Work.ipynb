{
  "nbformat": 4,
  "nbformat_minor": 0,
  "metadata": {
    "colab": {
      "name": "CS166 Session 10.2 Pre-Class Work.ipynb",
      "provenance": []
    },
    "kernelspec": {
      "name": "python3",
      "display_name": "Python 3"
    }
  },
  "cells": [
    {
      "cell_type": "markdown",
      "metadata": {
        "id": "jnp48Ql32Gct",
        "colab_type": "text"
      },
      "source": [
        "# Question 1 Sampling bias for bus waiting times\n",
        "\n",
        "Suppose the interarrival time for a city bus has an exponential distribution with parameter 1/λ. A passenger arrives at a uniformly random time and records the time until the next bus arrives. What is the expected waiting time? Use a simulation to get an answer. Is the answer surprising? Now suppose instead that the interarrival time is U(0, 2λ). How does this change the situation? (Notice that the expected interarrival time is λ in both cases.)"
      ]
    },
    {
      "cell_type": "code",
      "metadata": {
        "id": "EGrq_y-70cOz",
        "colab_type": "code",
        "colab": {}
      },
      "source": [
        "import numpy as np\n",
        "import matplotlib.pyplot as plt\n",
        "import random"
      ],
      "execution_count": 0,
      "outputs": []
    },
    {
      "cell_type": "code",
      "metadata": {
        "id": "hjcPBsCO0qS2",
        "colab_type": "code",
        "colab": {
          "base_uri": "https://localhost:8080/",
          "height": 981
        },
        "outputId": "28ab9d1d-99e1-495d-9432-a4625b5d2aed"
      },
      "source": [
        "exponential = []\n",
        "uniform = []\n",
        "\n",
        "for i in range(1,1000): # i represents lambda\n",
        "    \n",
        "    # Sample randomly from our exponential distribution\n",
        "    sample_exponential = np.random.exponential(1/i)\n",
        "    exponential.append(sample_exponential)\n",
        "\n",
        "    # Sample randomly from our normal distribution\n",
        "    sample_uniform = np.random.uniform(0, 2*i)\n",
        "    uniform.append(sample_uniform)\n",
        "\n",
        "# Plotting the graphs\n",
        "\n",
        "plt.figure(figsize=(12,8))\n",
        "plt.hist(exponential, bins = 20)\n",
        "plt.title('Wait times from exponential distribution')\n",
        "plt.show()\n",
        "\n",
        "plt.figure(figsize=(12,8))\n",
        "plt.hist(uniform, bins = 20)\n",
        "plt.title('Wait times from uniform distribution')\n",
        "plt.show()"
      ],
      "execution_count": 26,
      "outputs": [
        {
          "output_type": "display_data",
          "data": {
            "image/png": "[encoded data removed]",
            "text/plain": [
              "<Figure size 864x576 with 1 Axes>"
            ]
          },
          "metadata": {
            "tags": []
          }
        },
        {
          "output_type": "display_data",
          "data": {
            "image/png": "[encoded data removed]",
            "text/plain": [
              "<Figure size 864x576 with 1 Axes>"
            ]
          },
          "metadata": {
            "tags": []
          }
        }
      ]
    },
    {
      "cell_type": "markdown",
      "metadata": {
        "id": "2cUdm3kB2MwH",
        "colab_type": "text"
      },
      "source": [
        "# Question 2 Retirement benefit projection\n",
        "\n",
        "At age 50 Fannie Mae has 150,000 dollars invested and will be investing another 10,000 dollars per year until age 70. Each year the investment grows according to an interest rate that is normally distributed with mean 8% and standard deviation 9%. At age 70, Fannie Mae then retires and withdraws $65,000 per year until death. Below is given a conditional death probability table. Thus if Fannie Mae lives until age 70, then the probability of dying before age 71 is 0.04979. Simulate this process 1000 times and histogram the amount of money Fannie Mae has at death."
      ]
    },
    {
      "cell_type": "code",
      "metadata": {
        "id": "sP9yHZSc11o5",
        "colab_type": "code",
        "colab": {}
      },
      "source": [
        "data = {\n",
        "          50: 0.00832, 51: 0.00911, 52: 0.00996, 53: 0.01089, 54: 0.01190,\n",
        "          55: 0.01300, 56: 0.01421, 57: 0.01554, 58: 0.01700, 59: 0.01859,\n",
        "          60: 0.02034, 61: 0.02224, 62: 0.02431, 63: 0.02657, 64: 0.02904,\n",
        "          65: 0.03175, 66: 0.03474, 67: 0.03804, 68: 0.04168, 69: 0.04561,\n",
        "          70: 0.04979, 71: 0.05415, 72: 0.05865, 73: 0.06326, 74: 0.06812,\n",
        "          75: 0.07337, 76: 0.07918, 77: 0.08570, 78: 0.09306, 79: 0.10119,\n",
        "          80: 0.10998, 81: 0.11935, 82: 0.12917, 83: 0.13938, 84: 0.15001,\n",
        "          85: 0.16114, 86: 0.17282, 87: 0.18513, 88: 0.19825, 89: 0.21246,\n",
        "          90: 0.22814, 91: 0.24577, 92: 0.26593, 93: 0.28930, 94: 0.31666,\n",
        "          95: 0.35124, 96: 0.40056, 97: 0.48842, 98: 0.66815, 99: 0.72000,\n",
        "          100: 0.76000, 101: 0.80000, 102: 0.85000, 103: 0.90000,\n",
        "          104: 0.96000, 105: 1.00000\n",
        "        \n",
        "        }"
      ],
      "execution_count": 0,
      "outputs": []
    },
    {
      "cell_type": "code",
      "metadata": {
        "id": "mrquaMhP2Xsi",
        "colab_type": "code",
        "colab": {}
      },
      "source": [
        "balance = []\n",
        "age = []\n",
        "\n",
        "for _ in range(1000):\n",
        "    principal = 150000\n",
        "    curr_age = 50\n",
        "    while random.random() > data[curr_age]:\n",
        "        interest = random.gauss(0.08,0.09)\n",
        "        if curr_age <= 70:\n",
        "            principal = principal*interest + 10000\n",
        "        else:\n",
        "            principal = principal*interest + 65000\n",
        "        curr_age += 1\n",
        "    age.append(curr_age)\n",
        "    balance.append(principal)    "
      ],
      "execution_count": 0,
      "outputs": []
    },
    {
      "cell_type": "code",
      "metadata": {
        "id": "XKbIbhYZ5RS8",
        "colab_type": "code",
        "colab": {
          "base_uri": "https://localhost:8080/",
          "height": 501
        },
        "outputId": "ff2c2222-3de2-464f-a27c-e3bf7e31f5ac"
      },
      "source": [
        "# Plotting the histogram\n",
        "\n",
        "plt.figure(figsize=(12,8))\n",
        "plt.hist(balance, bins = 50)\n",
        "plt.show()\n",
        "\n",
        "print(f'On average, Fannie Mae dies when she is {np.mean(age)} with {np.mean(balance)} in her bank account.')"
      ],
      "execution_count": 30,
      "outputs": [
        {
          "output_type": "display_data",
          "data": {
            "image/png": "[encoded data removed]",
            "text/plain": [
              "<Figure size 864x576 with 1 Axes>"
            ]
          },
          "metadata": {
            "tags": []
          }
        },
        {
          "output_type": "stream",
          "text": [
            "On average, Fannie Mae dies when she is 72.791 with 45553.0159804788 in her bank account.\n"
          ],
          "name": "stdout"
        }
      ]
    }
  ]
}